{
  "nbformat": 4,
  "nbformat_minor": 0,
  "metadata": {
    "kernelspec": {
      "display_name": "Python 3",
      "language": "python",
      "name": "python3"
    },
    "language_info": {
      "codemirror_mode": {
        "name": "ipython",
        "version": 3
      },
      "file_extension": ".py",
      "mimetype": "text/x-python",
      "name": "python",
      "nbconvert_exporter": "python",
      "pygments_lexer": "ipython3",
      "version": "3.5.4"
    },
    "colab": {
      "name": "Trabalho_ANN_01_Greg.ipynb",
      "provenance": [],
      "collapsed_sections": [],
      "toc_visible": true,
      "include_colab_link": true
    }
  },
  "cells": [
    {
      "cell_type": "markdown",
      "metadata": {
        "id": "view-in-github",
        "colab_type": "text"
      },
      "source": [
        "<a href=\"https://colab.research.google.com/github/gregoriullmann/Trabalho1_ANN_2021/blob/main/Trabalho_ANN_01_Greg.ipynb\" target=\"_parent\"><img src=\"https://colab.research.google.com/assets/colab-badge.svg\" alt=\"Open In Colab\"/></a>"
      ]
    },
    {
      "cell_type": "code",
      "metadata": {
        "id": "cF6kzanWQZgh"
      },
      "source": [
        "# bibliotecas usadas\n",
        "import os\n",
        "import numpy as np\n",
        "import pandas as pd\n",
        "import matplotlib.pyplot as plt\n",
        "from sklearn.neural_network import MLPRegressor\n",
        "from sklearn.metrics import mean_squared_error\n",
        "from sklearn.metrics import r2_score \n",
        "\n",
        "np.random.seed(0)"
      ],
      "execution_count": 1,
      "outputs": []
    },
    {
      "cell_type": "code",
      "metadata": {
        "id": "UW1APYrFQZgl"
      },
      "source": [
        "# para gerar o grafico no browser\n",
        "%matplotlib inline"
      ],
      "execution_count": 2,
      "outputs": []
    },
    {
      "cell_type": "code",
      "metadata": {
        "id": "97dzq_Av8cll"
      },
      "source": [
        "# local dos dados e modifica o diretorio\n",
        "# path='/content/dados.csv'\n",
        "# os.chdir(path)"
      ],
      "execution_count": 3,
      "outputs": []
    },
    {
      "cell_type": "code",
      "metadata": {
        "colab": {
          "base_uri": "https://localhost:8080/"
        },
        "id": "0dySLmFh-Ln2",
        "outputId": "54095990-d4ff-4a5c-faf8-bccddf56ee42"
      },
      "source": [
        "from google.colab import drive\n",
        "drive.mount(\"/content/drive\")\n",
        "%cd /content/drive/My Drive/ANN/Trabalho_01/opcao01\n",
        "%ls"
      ],
      "execution_count": 4,
      "outputs": [
        {
          "output_type": "stream",
          "text": [
            "Mounted at /content/drive\n",
            "/content/drive/My Drive/ANN/Trabalho_01/opcao01\n",
            "dados.csv  Trabalho_ANN_01_Greg.ipynb\n"
          ],
          "name": "stdout"
        }
      ]
    },
    {
      "cell_type": "code",
      "metadata": {
        "id": "poo2kvF6QZgo",
        "colab": {
          "base_uri": "https://localhost:8080/"
        },
        "outputId": "2e15637e-dca5-40df-8ddd-737c00eeaca9"
      },
      "source": [
        "# leitura dos dados\n",
        "DAT=pd.read_csv(\"dados.csv\", sep=';')\n",
        "print(DAT)\n"
      ],
      "execution_count": 5,
      "outputs": [
        {
          "output_type": "stream",
          "text": [
            "    Run  Time     v   Co  pH  efficiency\n",
            "0     1    60  0.12  100   7       95.80\n",
            "1     2    40  0.18  100   7       85.70\n",
            "2     3    60  0.18   50   3       95.38\n",
            "3     4    40  0.12  100   3       85.20\n",
            "4     5    40  0.12  100   7       86.40\n",
            "5     6    20  0.06   50  11       94.10\n",
            "6     7    20  0.06   50   3       91.69\n",
            "7     8    60  0.06   50   3       93.24\n",
            "8     9    20  0.18  150  11       55.10\n",
            "9    10    20  0.18   50   3       57.80\n",
            "10   11    60  0.06  150   3       94.20\n",
            "11   12    40  0.12  150   7       80.88\n",
            "12   13    20  0.06  150   3       62.42\n",
            "13   14    60  0.06  150  11       93.80\n",
            "14   15    40  0.12  100   7       92.60\n",
            "15   16    40  0.06  100   7       91.34\n",
            "16   17    40  0.12  100   7       92.40\n",
            "17   18    60  0.06   50  11       94.20\n",
            "18   19    40  0.12  100   7       93.10\n",
            "19   20    20  0.18   50  11       84.00\n",
            "20   21    40  0.12  100   7       91.20\n",
            "21   22    60  0.18  150  11       92.90\n",
            "22   23    40  0.12  100  11       93.10\n",
            "23   24    60  0.18   50  11       98.20\n",
            "24   25    20  0.12  100   7       72.90\n",
            "25   26    40  0.12  100   7       93.50\n",
            "26   27    60  0.18  150   3       90.29\n",
            "27   28    40  0.12   50   7       94.70\n",
            "28   29    20  0.06  150  11       63.50\n",
            "29   30    20  0.18  150   3       30.60\n"
          ],
          "name": "stdout"
        }
      ]
    },
    {
      "cell_type": "code",
      "metadata": {
        "id": "fwitNT_tQZgo"
      },
      "source": [
        "# separa as colunas de interesse\n",
        "Index=[1,2,3,4,5]\n",
        "Dat_Select=[]\n",
        "Dat_Select=DAT.iloc[:,Index].copy()\n",
        "#print(Dat_Select)"
      ],
      "execution_count": 6,
      "outputs": []
    },
    {
      "cell_type": "code",
      "metadata": {
        "id": "l5_lY9_wQZgp"
      },
      "source": [
        "# funcao normatiza dados\n",
        "def Normatiza(x):\n",
        "    strings=list(x)\n",
        "    for i in strings:\n",
        "        max_x=x[i].max()\n",
        "        min_x=x[i].min()\n",
        "        a=min_x\n",
        "        b=max_x\n",
        "        x[i]=(x[i]-a)/(b-a)\n",
        "    return x"
      ],
      "execution_count": 7,
      "outputs": []
    },
    {
      "cell_type": "code",
      "metadata": {
        "id": "rwt3mObvQZgq"
      },
      "source": [
        "# funcao retorna os dados a forma original\n",
        "def Original(x,x_old):\n",
        "    strings=list(x)\n",
        "    for i in strings:\n",
        "        max_x=x_old[i].max()\n",
        "        min_x=x_old[i].min()\n",
        "        a=min_x\n",
        "        b=max_x\n",
        "        x[i]=x[i]*(b-a)+a\n",
        "    return x"
      ],
      "execution_count": 8,
      "outputs": []
    },
    {
      "cell_type": "code",
      "metadata": {
        "id": "FEvCqRGUQZgr"
      },
      "source": [
        "# separa os dados em normatizados e originais\n",
        "DAT_OLD=[]\n",
        "DAT_OLD=Dat_Select.copy()\n",
        "DAT=Normatiza(Dat_Select)"
      ],
      "execution_count": 9,
      "outputs": []
    },
    {
      "cell_type": "code",
      "metadata": {
        "id": "ko4Xo7pvQZgr",
        "colab": {
          "base_uri": "https://localhost:8080/"
        },
        "outputId": "3e9b3903-577a-4af1-a43b-09142726c89f"
      },
      "source": [
        "# separa os dados em treino e teste\n",
        "train=DAT.sample(frac=0.8,random_state=None) \n",
        "test=DAT.drop(train.index)\n",
        "print(DAT)"
      ],
      "execution_count": 10,
      "outputs": [
        {
          "output_type": "stream",
          "text": [
            "    Time    v   Co   pH  efficiency\n",
            "0    1.0  0.5  0.5  0.5    0.964497\n",
            "1    0.5  1.0  0.5  0.5    0.815089\n",
            "2    1.0  1.0  0.0  0.0    0.958284\n",
            "3    0.5  0.5  0.5  0.0    0.807692\n",
            "4    0.5  0.5  0.5  0.5    0.825444\n",
            "5    0.0  0.0  0.0  1.0    0.939349\n",
            "6    0.0  0.0  0.0  0.0    0.903698\n",
            "7    1.0  0.0  0.0  0.0    0.926627\n",
            "8    0.0  1.0  1.0  1.0    0.362426\n",
            "9    0.0  1.0  0.0  0.0    0.402367\n",
            "10   1.0  0.0  1.0  0.0    0.940828\n",
            "11   0.5  0.5  1.0  0.5    0.743787\n",
            "12   0.0  0.0  1.0  0.0    0.470710\n",
            "13   1.0  0.0  1.0  1.0    0.934911\n",
            "14   0.5  0.5  0.5  0.5    0.917160\n",
            "15   0.5  0.0  0.5  0.5    0.898521\n",
            "16   0.5  0.5  0.5  0.5    0.914201\n",
            "17   1.0  0.0  0.0  1.0    0.940828\n",
            "18   0.5  0.5  0.5  0.5    0.924556\n",
            "19   0.0  1.0  0.0  1.0    0.789941\n",
            "20   0.5  0.5  0.5  0.5    0.896450\n",
            "21   1.0  1.0  1.0  1.0    0.921598\n",
            "22   0.5  0.5  0.5  1.0    0.924556\n",
            "23   1.0  1.0  0.0  1.0    1.000000\n",
            "24   0.0  0.5  0.5  0.5    0.625740\n",
            "25   0.5  0.5  0.5  0.5    0.930473\n",
            "26   1.0  1.0  1.0  0.0    0.882988\n",
            "27   0.5  0.5  0.0  0.5    0.948225\n",
            "28   0.0  0.0  1.0  1.0    0.486686\n",
            "29   0.0  1.0  1.0  0.0    0.000000\n"
          ],
          "name": "stdout"
        }
      ]
    },
    {
      "cell_type": "code",
      "metadata": {
        "id": "02ArvMOIQZgs",
        "colab": {
          "base_uri": "https://localhost:8080/"
        },
        "outputId": "0af220cf-77dc-4c81-a11d-0b449d6e9ee2"
      },
      "source": [
        "# obtem as variaveis independentes (treino e teste)\n",
        "x_train=train.iloc[:,[0,1,2,3]]\n",
        "x_test=test.iloc[:,[0,1,2,3]]\n",
        "X_OLD=DAT_OLD.iloc[:,[0,1,2,3]]\n",
        "print(x_train)"
      ],
      "execution_count": 11,
      "outputs": [
        {
          "output_type": "stream",
          "text": [
            "    Time    v   Co   pH\n",
            "2    1.0  1.0  0.0  0.0\n",
            "28   0.0  0.0  1.0  1.0\n",
            "13   1.0  0.0  1.0  1.0\n",
            "10   1.0  0.0  1.0  0.0\n",
            "26   1.0  1.0  1.0  0.0\n",
            "24   0.0  0.5  0.5  0.5\n",
            "27   0.5  0.5  0.0  0.5\n",
            "11   0.5  0.5  1.0  0.5\n",
            "17   1.0  0.0  0.0  1.0\n",
            "22   0.5  0.5  0.5  1.0\n",
            "5    0.0  0.0  0.0  1.0\n",
            "16   0.5  0.5  0.5  0.5\n",
            "8    0.0  1.0  1.0  1.0\n",
            "14   0.5  0.5  0.5  0.5\n",
            "23   1.0  1.0  0.0  1.0\n",
            "20   0.5  0.5  0.5  0.5\n",
            "1    0.5  1.0  0.5  0.5\n",
            "29   0.0  1.0  1.0  0.0\n",
            "6    0.0  0.0  0.0  0.0\n",
            "4    0.5  0.5  0.5  0.5\n",
            "18   0.5  0.5  0.5  0.5\n",
            "19   0.0  1.0  0.0  1.0\n",
            "9    0.0  1.0  0.0  0.0\n",
            "7    1.0  0.0  0.0  0.0\n"
          ],
          "name": "stdout"
        }
      ]
    },
    {
      "cell_type": "code",
      "metadata": {
        "id": "QQQyRXq4QZgs",
        "colab": {
          "base_uri": "https://localhost:8080/"
        },
        "outputId": "d79b0a5a-a672-4a2c-9a95-324259f6fd93"
      },
      "source": [
        "# obtem as variaveis dependentes (treino e teste)\n",
        "y_train=train.iloc[:,[4]]\n",
        "y_test=test.iloc[:,[4]]\n",
        "Y_OLD=DAT_OLD.iloc[:,[4]]\n",
        "print(y_train)"
      ],
      "execution_count": 12,
      "outputs": [
        {
          "output_type": "stream",
          "text": [
            "    efficiency\n",
            "2     0.958284\n",
            "28    0.486686\n",
            "13    0.934911\n",
            "10    0.940828\n",
            "26    0.882988\n",
            "24    0.625740\n",
            "27    0.948225\n",
            "11    0.743787\n",
            "17    0.940828\n",
            "22    0.924556\n",
            "5     0.939349\n",
            "16    0.914201\n",
            "8     0.362426\n",
            "14    0.917160\n",
            "23    1.000000\n",
            "20    0.896450\n",
            "1     0.815089\n",
            "29    0.000000\n",
            "6     0.903698\n",
            "4     0.825444\n",
            "18    0.924556\n",
            "19    0.789941\n",
            "9     0.402367\n",
            "7     0.926627\n"
          ],
          "name": "stdout"
        }
      ]
    },
    {
      "cell_type": "code",
      "metadata": {
        "id": "BpNn_IogQZgt"
      },
      "source": [
        "# define a rede neural \n",
        "clf = MLPRegressor(solver='lbfgs',activation='tanh',alpha=0.00001,hidden_layer_sizes=(6,),learning_rate='constant', random_state=None)"
      ],
      "execution_count": 13,
      "outputs": []
    },
    {
      "cell_type": "code",
      "metadata": {
        "id": "Y8BteMytQZgu",
        "colab": {
          "base_uri": "https://localhost:8080/"
        },
        "outputId": "0539272c-8b0f-4f5b-de9d-b731b506a170"
      },
      "source": [
        "# treina a rede neural\n",
        "clf.fit(x_train, y_train)"
      ],
      "execution_count": 14,
      "outputs": [
        {
          "output_type": "stream",
          "text": [
            "/usr/local/lib/python3.7/dist-packages/sklearn/neural_network/_multilayer_perceptron.py:1342: DataConversionWarning: A column-vector y was passed when a 1d array was expected. Please change the shape of y to (n_samples, ), for example using ravel().\n",
            "  y = column_or_1d(y, warn=True)\n"
          ],
          "name": "stderr"
        },
        {
          "output_type": "execute_result",
          "data": {
            "text/plain": [
              "MLPRegressor(activation='tanh', alpha=1e-05, batch_size='auto', beta_1=0.9,\n",
              "             beta_2=0.999, early_stopping=False, epsilon=1e-08,\n",
              "             hidden_layer_sizes=(6,), learning_rate='constant',\n",
              "             learning_rate_init=0.001, max_fun=15000, max_iter=200,\n",
              "             momentum=0.9, n_iter_no_change=10, nesterovs_momentum=True,\n",
              "             power_t=0.5, random_state=None, shuffle=True, solver='lbfgs',\n",
              "             tol=0.0001, validation_fraction=0.1, verbose=False,\n",
              "             warm_start=False)"
            ]
          },
          "metadata": {
            "tags": []
          },
          "execution_count": 14
        }
      ]
    },
    {
      "cell_type": "code",
      "metadata": {
        "id": "smaQ8uSGQZgv"
      },
      "source": [
        "# usa a rede neural treina em calculos para treino e teste\n",
        "y_calc_train=clf.predict(x_train)\n",
        "y_calc_test=clf.predict(x_test)"
      ],
      "execution_count": 15,
      "outputs": []
    },
    {
      "cell_type": "code",
      "metadata": {
        "id": "goF4lWLlQZgv"
      },
      "source": [
        "# transforma a saida da rede em dataframe \n",
        "y_calc_train=pd.DataFrame(y_calc_train)\n",
        "y_calc_test=pd.DataFrame(y_calc_test)\n",
        "col_names=list(y_train)\n",
        "y_calc_train.columns = col_names\n",
        "y_calc_test.columns = col_names"
      ],
      "execution_count": 16,
      "outputs": []
    },
    {
      "cell_type": "code",
      "metadata": {
        "id": "aVJXbUosQZgw"
      },
      "source": [
        "# transforma dos dados calculados na forma original (nao normatizado)\n",
        "y_calc_train=Original(y_calc_train,Y_OLD)\n",
        "y_calc_test=Original(y_calc_test,Y_OLD)"
      ],
      "execution_count": 17,
      "outputs": []
    },
    {
      "cell_type": "code",
      "metadata": {
        "id": "RwacCDHpQZgx"
      },
      "source": [
        "# recupera os dados originais \n",
        "test=[]\n",
        "train=[]\n",
        "train=Original(y_train,Y_OLD)\n",
        "test=Original(y_test,Y_OLD)"
      ],
      "execution_count": 18,
      "outputs": []
    },
    {
      "cell_type": "code",
      "metadata": {
        "id": "R7063DtLQZgx"
      },
      "source": [
        "# escolhe uma das resposta para fazer o grafico (efficiency-treino)\n",
        "effici_obs_train=[]\n",
        "effici_calc_train=[]\n",
        "effici_calc_train=y_calc_train['efficiency'].copy()\n",
        "effici_obs_train=train['efficiency'].copy()"
      ],
      "execution_count": 19,
      "outputs": []
    },
    {
      "cell_type": "code",
      "metadata": {
        "id": "TDa9JkZjQZgy"
      },
      "source": [
        "# escolhe uma das resposta para fazer o grafico (efficiency-teste)\n",
        "effici_obs_test=[]\n",
        "effici_calc_test=[]\n",
        "effici_calc_test=y_calc_test['efficiency'].copy()\n",
        "effici_obs_test=test['efficiency'].copy()"
      ],
      "execution_count": 20,
      "outputs": []
    },
    {
      "cell_type": "code",
      "metadata": {
        "id": "RZrkRZ3GQZgz",
        "colab": {
          "base_uri": "https://localhost:8080/",
          "height": 279
        },
        "outputId": "795f7ec9-2972-4073-9db1-cc30b35592af"
      },
      "source": [
        "# expressa os dois dados em figura\n",
        "fig = plt.figure()\n",
        "ax1 = fig.add_subplot(111)\n",
        "\n",
        "ax1.scatter(effici_obs_test,effici_calc_test, s=10, c='b', marker=\"s\", label='teste')\n",
        "ax1.scatter(effici_obs_train,effici_calc_train, s=10, c='r', marker=\"o\", label='treino')\n",
        "plt.legend(loc='upper left')\n",
        "plt.ylabel('efficiency Calc')\n",
        "plt.xlabel('efficiency Obs')\n",
        "plt.show()"
      ],
      "execution_count": 21,
      "outputs": [
        {
          "output_type": "display_data",
          "data": {
            "image/png": "[encoded data removed]",
            "text/plain": [
              "<Figure size 432x288 with 1 Axes>"
            ]
          },
          "metadata": {
            "tags": [],
            "needs_background": "light"
          }
        }
      ]
    },
    {
      "cell_type": "code",
      "metadata": {
        "id": "aj_XteG2QZg0",
        "colab": {
          "base_uri": "https://localhost:8080/"
        },
        "outputId": "8fb86402-e598-4b2d-be99-f40e53c834e2"
      },
      "source": [
        "mse=mean_squared_error(effici_obs_test,effici_calc_test)\n",
        "print(\"MSE teste=\",mse)\n",
        "R2=r2_score(effici_obs_test,effici_calc_test)\n",
        "print(\"R^2 teste=\",R2)"
      ],
      "execution_count": 22,
      "outputs": [
        {
          "output_type": "stream",
          "text": [
            "MSE teste= 7.585128716694392\n",
            "R^2 teste= 0.94170027313661\n"
          ],
          "name": "stdout"
        }
      ]
    },
    {
      "cell_type": "code",
      "metadata": {
        "id": "efLwFnUqQZg1",
        "colab": {
          "base_uri": "https://localhost:8080/"
        },
        "outputId": "7d1da106-f2d6-4a91-9ede-3d2e93001587"
      },
      "source": [
        "mse=mean_squared_error(effici_obs_train,effici_calc_train)\n",
        "print(\"MSE treino=\",mse)\n",
        "R2=r2_score(effici_obs_train,effici_calc_train)\n",
        "print(\"R^2 treino=\",R2)"
      ],
      "execution_count": 23,
      "outputs": [
        {
          "output_type": "stream",
          "text": [
            "MSE treino= 1.3676956256470618\n",
            "R^2 treino= 0.9948164560955364\n"
          ],
          "name": "stdout"
        }
      ]
    }
  ]
}