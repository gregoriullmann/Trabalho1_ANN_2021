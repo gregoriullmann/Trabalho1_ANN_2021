{
  "nbformat": 4,
  "nbformat_minor": 0,
  "metadata": {
    "kernelspec": {
      "display_name": "Python 3",
      "language": "python",
      "name": "python3"
    },
    "language_info": {
      "codemirror_mode": {
        "name": "ipython",
        "version": 3
      },
      "file_extension": ".py",
      "mimetype": "text/x-python",
      "name": "python",
      "nbconvert_exporter": "python",
      "pygments_lexer": "ipython3",
      "version": "3.5.4"
    },
    "colab": {
      "name": "Cópia de Trabalho_ANN_01_Greg.ipynb",
      "provenance": [],
      "collapsed_sections": [],
      "toc_visible": true,
      "include_colab_link": true
    }
  },
  "cells": [
    {
      "cell_type": "markdown",
      "metadata": {
        "id": "view-in-github",
        "colab_type": "text"
      },
      "source": [
        "<a href=\"https://colab.research.google.com/github/gregoriullmann/Trabalho1_ANN_2021/blob/main/C%C3%B3pia_de_Trabalho_ANN_01_Greg.ipynb\" target=\"_parent\"><img src=\"https://colab.research.google.com/assets/colab-badge.svg\" alt=\"Open In Colab\"/></a>"
      ]
    },
    {
      "cell_type": "code",
      "metadata": {
        "id": "cF6kzanWQZgh"
      },
      "source": [
        "# bibliotecas usadas\n",
        "import numpy as np\n",
        "import pandas as pd\n",
        "import matplotlib.pyplot as plt\n",
        "from sklearn.neural_network import MLPRegressor\n",
        "from sklearn.metrics import mean_squared_error\n",
        "from sklearn.metrics import r2_score \n",
        "\n",
        "np.random.seed(0)#implementei esta linha pois antes, cada vez que o código era executado obtinham-se diferentes resultados, não sendo o código reprodutível. Com essa linha implementada, ao se fixar uma determinada seed(x) x=0,1,2,..., selecionamos sempre o mesmo conjunto de números aleatórios para inicializar o treinamento."
      ],
      "execution_count": 1,
      "outputs": []
    },
    {
      "cell_type": "code",
      "metadata": {
        "id": "UW1APYrFQZgl"
      },
      "source": [
        "# para gerar o grafico no browser\n",
        "%matplotlib inline"
      ],
      "execution_count": 2,
      "outputs": []
    },
    {
      "cell_type": "code",
      "metadata": {
        "id": "97dzq_Av8cll",
        "colab": {
          "base_uri": "https://localhost:8080/"
        },
        "outputId": "71947796-5a09-461e-cf72-3b6cbff28109"
      },
      "source": [
        "# localiza os dados na nuvem (github) e abre a pasta do meu repositório no Github \"Trabalho1_ANN_2021\" em que se encontra o arquivo de dados usado\n",
        "!git clone https://github.com/gregoriullmann/Trabalho1_ANN_2021\n",
        "%cd Trabalho1_ANN_2021\n"
      ],
      "execution_count": 3,
      "outputs": [
        {
          "output_type": "stream",
          "text": [
            "Cloning into 'Trabalho1_ANN_2021'...\n",
            "remote: Enumerating objects: 16, done.\u001b[K\n",
            "remote: Counting objects: 100% (16/16), done.\u001b[K\n",
            "remote: Compressing objects: 100% (16/16), done.\u001b[K\n",
            "remote: Total 16 (delta 5), reused 0 (delta 0), pack-reused 0\u001b[K\n",
            "Unpacking objects: 100% (16/16), done.\n",
            "/content/Trabalho1_ANN_2021\n"
          ],
          "name": "stdout"
        }
      ]
    },
    {
      "cell_type": "code",
      "metadata": {
        "id": "0dySLmFh-Ln2"
      },
      "source": [
        "#from google.colab import drive #linha usada antes, durante a execução e estudo do trabalho, para localizar e abrir o diretório do meu Drive onde se encontram os mesmos arquivos que estão no github\n",
        "#drive.mount(\"/content/drive\")\n",
        "#%cd /content/drive/My Drive/ANN/Trabalho_01/opcao01\n",
        "#%ls"
      ],
      "execution_count": 4,
      "outputs": []
    },
    {
      "cell_type": "code",
      "metadata": {
        "id": "poo2kvF6QZgo",
        "colab": {
          "base_uri": "https://localhost:8080/"
        },
        "outputId": "a9609af7-4f83-452c-8752-6946cf0841e6"
      },
      "source": [
        "# leitura dos dados do arquivo \"dados\" no github, dados apresentados em dataframe\n",
        "DAT=pd.read_csv(\"dados.csv\", sep=';')\n",
        "print(DAT)\n"
      ],
      "execution_count": 5,
      "outputs": [
        {
          "output_type": "stream",
          "text": [
            "    Run  Time     v   Co  pH  efficiency\n",
            "0     1    60  0.12  100   7       95.80\n",
            "1     2    40  0.18  100   7       85.70\n",
            "2     3    60  0.18   50   3       95.38\n",
            "3     4    40  0.12  100   3       85.20\n",
            "4     5    40  0.12  100   7       86.40\n",
            "5     6    20  0.06   50  11       94.10\n",
            "6     7    20  0.06   50   3       91.69\n",
            "7     8    60  0.06   50   3       93.24\n",
            "8     9    20  0.18  150  11       55.10\n",
            "9    10    20  0.18   50   3       57.80\n",
            "10   11    60  0.06  150   3       94.20\n",
            "11   12    40  0.12  150   7       80.88\n",
            "12   13    20  0.06  150   3       62.42\n",
            "13   14    60  0.06  150  11       93.80\n",
            "14   15    40  0.12  100   7       92.60\n",
            "15   16    40  0.06  100   7       91.34\n",
            "16   17    40  0.12  100   7       92.40\n",
            "17   18    60  0.06   50  11       94.20\n",
            "18   19    40  0.12  100   7       93.10\n",
            "19   20    20  0.18   50  11       84.00\n",
            "20   21    40  0.12  100   7       91.20\n",
            "21   22    60  0.18  150  11       92.90\n",
            "22   23    40  0.12  100  11       93.10\n",
            "23   24    60  0.18   50  11       98.20\n",
            "24   25    20  0.12  100   7       72.90\n",
            "25   26    40  0.12  100   7       93.50\n",
            "26   27    60  0.18  150   3       90.29\n",
            "27   28    40  0.12   50   7       94.70\n",
            "28   29    20  0.06  150  11       63.50\n",
            "29   30    20  0.18  150   3       30.60\n"
          ],
          "name": "stdout"
        }
      ]
    },
    {
      "cell_type": "code",
      "metadata": {
        "id": "fwitNT_tQZgo"
      },
      "source": [
        "# separa as colunas de interesse, a coluna 0 é a coluna \"Run\", que não interessa para os cálculos, por isso peguei as demais 4 variáveis (Time, v, Co, pH) e 1 resposta (efficiency)\n",
        "Index=[1,2,3,4,5]\n",
        "Dat_Select=[]\n",
        "Dat_Select=DAT.iloc[:,Index].copy()\n",
        "#print(Dat_Select) #imprime o novo dataframe - para controle pessoal da implementação."
      ],
      "execution_count": 6,
      "outputs": []
    },
    {
      "cell_type": "code",
      "metadata": {
        "id": "l5_lY9_wQZgp"
      },
      "source": [
        "# funcao para normatizar dados\n",
        "def Normatiza(x):\n",
        "    strings=list(x)  #pega os dados da lista e os coloca em uma string que será percorrida pelo \"for\"\n",
        "    for i in strings:\n",
        "        max_x=x[i].max() #pega o maior valor de cada variável e da resposta\n",
        "        min_x=x[i].min() #pega o menor valor de cada variável e da resposta\n",
        "        a=min_x #associa o valor menor à variável \"a\"\n",
        "        b=max_x #associa o valor maior à variável \"b\"\n",
        "        x[i]=(x[i]-a)/(b-a) #equação de acordo com a Equação 6 do artigo.\n",
        "    return x"
      ],
      "execution_count": 7,
      "outputs": []
    },
    {
      "cell_type": "code",
      "metadata": {
        "id": "rwt3mObvQZgq"
      },
      "source": [
        "# funcao retorna os dados para a forma original\n",
        "# idem o bloco anterior, a única diferença é que foi realizado um algebrismo na equação anterior para calcular a os valores na forma original \n",
        "def Original(x,x_old):\n",
        "    strings=list(x)\n",
        "    for i in strings:\n",
        "        max_x=x_old[i].max()\n",
        "        min_x=x_old[i].min()\n",
        "        a=min_x\n",
        "        b=max_x\n",
        "        x[i]=x[i]*(b-a)+a #Equação 6 do artigo algebricamente modificada para cálculo do valor original\n",
        "    return x"
      ],
      "execution_count": 8,
      "outputs": []
    },
    {
      "cell_type": "code",
      "metadata": {
        "id": "FEvCqRGUQZgr"
      },
      "source": [
        "# separa os dados em normatizados e originais\n",
        "DAT_OLD=[]  #cria uma lista para alocar os dados no formato original\n",
        "DAT_OLD=Dat_Select.copy() #aloca os dados da lista Dat_Select na lista DAT_OLD\n",
        "DAT=Normatiza(Dat_Select) #Define a lista DAT com os dados da Dat_Select normatizada"
      ],
      "execution_count": 9,
      "outputs": []
    },
    {
      "cell_type": "code",
      "metadata": {
        "id": "ko4Xo7pvQZgr"
      },
      "source": [
        "# separa os dados em treino \"train\" e teste \"test\" \n",
        "train=DAT.sample(frac=0.8,random_state=None) #foram selecionados 80% dos dados para treino\n",
        "test=DAT.drop(train.index) #o restante (20%) foi selecionado para teste\n",
        "#print(DAT) #para controle próprio"
      ],
      "execution_count": 10,
      "outputs": []
    },
    {
      "cell_type": "code",
      "metadata": {
        "id": "02ArvMOIQZgs"
      },
      "source": [
        "# obtem as variaveis independentes (treino e teste)\n",
        "x_train=train.iloc[:,[0,1,2,3]] #equivalem as colunas das variáveis \"Time\" \"v\" \"Co\" \"pH\"\n",
        "x_test=test.iloc[:,[0,1,2,3]]\n",
        "X_OLD=DAT_OLD.iloc[:,[0,1,2,3]]\n",
        "#print(x_train) # para controle próprio"
      ],
      "execution_count": 11,
      "outputs": []
    },
    {
      "cell_type": "code",
      "metadata": {
        "id": "QQQyRXq4QZgs"
      },
      "source": [
        "# obtem as variaveis dependentes (treino e teste)\n",
        "y_train=train.iloc[:,[4]] #equivale à resposta \"efficiency\"\n",
        "y_test=test.iloc[:,[4]]\n",
        "Y_OLD=DAT_OLD.iloc[:,[4]]\n",
        "#print(y_train) # para controle próprio"
      ],
      "execution_count": 12,
      "outputs": []
    },
    {
      "cell_type": "code",
      "metadata": {
        "id": "BpNn_IogQZgt"
      },
      "source": [
        "# define a rede neural \n",
        "#foi selecionado o solver 'lbfgs', a função de ativação aplicada foi a sigmoide 'logistic' conforme o artigo, o alfa padrão da biblioteca sklearn foi usado 10^-4, o número de neurônios na camada oculta foi definido 6 conforme o valor ótimo observado pelos autores no artigo, os demais parâmetros foram mantidos no default  \n",
        "clf = MLPRegressor(solver='lbfgs',activation='logistic',alpha=0.0001,hidden_layer_sizes=(6,),learning_rate='constant', random_state=None)"
      ],
      "execution_count": 13,
      "outputs": []
    },
    {
      "cell_type": "code",
      "metadata": {
        "id": "Y8BteMytQZgu",
        "colab": {
          "base_uri": "https://localhost:8080/"
        },
        "outputId": "3db15583-6887-4c7f-e156-327755ed6721"
      },
      "source": [
        "# treina a rede neural\n",
        "clf.fit(x_train, y_train) #comando clf.fit para treinar a rede neural no caso do uso da biblioteca sklearn"
      ],
      "execution_count": 14,
      "outputs": [
        {
          "output_type": "stream",
          "text": [
            "/usr/local/lib/python3.7/dist-packages/sklearn/neural_network/_multilayer_perceptron.py:1342: DataConversionWarning: A column-vector y was passed when a 1d array was expected. Please change the shape of y to (n_samples, ), for example using ravel().\n",
            "  y = column_or_1d(y, warn=True)\n"
          ],
          "name": "stderr"
        },
        {
          "output_type": "execute_result",
          "data": {
            "text/plain": [
              "MLPRegressor(activation='logistic', alpha=0.0001, batch_size='auto', beta_1=0.9,\n",
              "             beta_2=0.999, early_stopping=False, epsilon=1e-08,\n",
              "             hidden_layer_sizes=(6,), learning_rate='constant',\n",
              "             learning_rate_init=0.001, max_fun=15000, max_iter=200,\n",
              "             momentum=0.9, n_iter_no_change=10, nesterovs_momentum=True,\n",
              "             power_t=0.5, random_state=None, shuffle=True, solver='lbfgs',\n",
              "             tol=0.0001, validation_fraction=0.1, verbose=False,\n",
              "             warm_start=False)"
            ]
          },
          "metadata": {
            "tags": []
          },
          "execution_count": 14
        }
      ]
    },
    {
      "cell_type": "code",
      "metadata": {
        "id": "smaQ8uSGQZgv"
      },
      "source": [
        "# usa a rede neural para predição de resultados do treino e teste\n",
        "y_calc_train=clf.predict(x_train)\n",
        "y_calc_test=clf.predict(x_test)"
      ],
      "execution_count": 15,
      "outputs": []
    },
    {
      "cell_type": "code",
      "metadata": {
        "id": "goF4lWLlQZgv"
      },
      "source": [
        "# transforma a saida da rede em dataframe \n",
        "y_calc_train=pd.DataFrame(y_calc_train)\n",
        "y_calc_test=pd.DataFrame(y_calc_test)\n",
        "col_names=list(y_train)\n",
        "y_calc_train.columns = col_names\n",
        "y_calc_test.columns = col_names"
      ],
      "execution_count": 16,
      "outputs": []
    },
    {
      "cell_type": "code",
      "metadata": {
        "id": "aVJXbUosQZgw"
      },
      "source": [
        "# transforma dos dados calculados na forma original (nao normatizado) usando a função 'Original' definida anteriormente no código\n",
        "y_calc_train=Original(y_calc_train,Y_OLD)\n",
        "y_calc_test=Original(y_calc_test,Y_OLD)"
      ],
      "execution_count": 17,
      "outputs": []
    },
    {
      "cell_type": "code",
      "metadata": {
        "id": "RwacCDHpQZgx"
      },
      "source": [
        "# recupera os dados originais \n",
        "test=[] # cria a lista 'test' para colocar os dados de teste e os originais\n",
        "train=[] # cria a lista 'train' para colocar os dados de treino e os originais\n",
        "train=Original(y_train,Y_OLD) # inclui nessa lista os dados de treino e originais\n",
        "test=Original(y_test,Y_OLD) # inclui nessa lista os dados de teste e originais"
      ],
      "execution_count": 18,
      "outputs": []
    },
    {
      "cell_type": "code",
      "metadata": {
        "id": "R7063DtLQZgx"
      },
      "source": [
        "# escolhe uma das resposta para fazer o grafico (efficiency-treino)\n",
        "effici_obs_train=[] # cria a lista 'effici_obs_train' para colocar os dados de eficiência originais observados\n",
        "effici_calc_train=[] # cria a lista 'effici_calc_train' para colocar os dados de eficiência do treino calculados\n",
        "effici_calc_train=y_calc_train['efficiency'].copy() # coloca os dados de eficiência na coluna 'efficiency' da lista\n",
        "effici_obs_train=train['efficiency'].copy() # coloca os dados de eficiência na coluna 'efficiency' da lista"
      ],
      "execution_count": 19,
      "outputs": []
    },
    {
      "cell_type": "code",
      "metadata": {
        "id": "TDa9JkZjQZgy"
      },
      "source": [
        "# escolhe uma das resposta para fazer o grafico (efficiency-teste) idem o raciocínio do bloco anterior\n",
        "effici_obs_test=[]\n",
        "effici_calc_test=[]\n",
        "effici_calc_test=y_calc_test['efficiency'].copy()\n",
        "effici_obs_test=test['efficiency'].copy()"
      ],
      "execution_count": 20,
      "outputs": []
    },
    {
      "cell_type": "code",
      "metadata": {
        "id": "RZrkRZ3GQZgz",
        "colab": {
          "base_uri": "https://localhost:8080/",
          "height": 281
        },
        "outputId": "1b5aa421-9378-46c8-feee-daf4c558a1f3"
      },
      "source": [
        "# expressa os dois dados em figura\n",
        "fig = plt.figure()\n",
        "ax1 = fig.add_subplot(111)\n",
        "# nos eixos do gráfico a eficiência vai de aprox. 30% a 100% pulando de 10 em 10%, daí o s=10\n",
        "ax1.scatter(effici_obs_test,effici_calc_test, s=10, c='b', marker=\"s\", label='teste')\n",
        "ax1.scatter(effici_obs_train,effici_calc_train, s=10, c='r', marker=\"o\", label='treino')\n",
        "plt.legend(loc='upper left')\n",
        "plt.ylabel('efficiency Calc')\n",
        "plt.xlabel('efficiency Obs')\n",
        "plt.show()\n",
        "#podemos observar que os pontos de teste e treino seguiram comportamentos bem próximos com a linha de 45 graus, indicando um ajuste bom da rede neural"
      ],
      "execution_count": 21,
      "outputs": [
        {
          "output_type": "display_data",
          "data": {
            "image/png": "[encoded data removed]",
            "text/plain": [
              "<Figure size 432x288 with 1 Axes>"
            ]
          },
          "metadata": {
            "tags": [],
            "needs_background": "light"
          }
        }
      ]
    },
    {
      "cell_type": "code",
      "metadata": {
        "id": "aj_XteG2QZg0",
        "colab": {
          "base_uri": "https://localhost:8080/"
        },
        "outputId": "565e8be1-808d-4b41-9dfb-9a3098ff20ae"
      },
      "source": [
        "#a função mse usada aqui corresponde à mesma usada pelos autores (conferi no manual do sklearn)\n",
        "#entretanto apesar da boa predição e bons resultados da rede neural, os valores de MSE teste e treino e R2 teste e treino ainda foram bastante diferentes dos obtidos no artigo\n",
        "#Artigo: MSEteste=7.46x10-3 R2teste=0.9989  MSEtreino=2.89x10-5 R2treino=0.9996\n",
        "#Meu trabalho: MSEteste=5.1879 R2teste=0.9601  MSEtreino=2.1758 R2treino=0.9917\n",
        "mse=mean_squared_error(effici_obs_test,effici_calc_test)\n",
        "print(\"MSE teste=\",mse)\n",
        "R2=r2_score(effici_obs_test,effici_calc_test)\n",
        "print(\"R^2 teste=\",R2)"
      ],
      "execution_count": 22,
      "outputs": [
        {
          "output_type": "stream",
          "text": [
            "MSE teste= 5.187993832737375\n",
            "R^2 teste= 0.9601247869727183\n"
          ],
          "name": "stdout"
        }
      ]
    },
    {
      "cell_type": "code",
      "metadata": {
        "id": "efLwFnUqQZg1",
        "colab": {
          "base_uri": "https://localhost:8080/"
        },
        "outputId": "c55fd715-0fc0-419d-f3fa-636cfbecb5ee"
      },
      "source": [
        "mse=mean_squared_error(effici_obs_train,effici_calc_train)\n",
        "print(\"MSE treino=\",mse)\n",
        "R2=r2_score(effici_obs_train,effici_calc_train)\n",
        "print(\"R^2 treino=\",R2)"
      ],
      "execution_count": 23,
      "outputs": [
        {
          "output_type": "stream",
          "text": [
            "MSE treino= 2.1758088567930387\n",
            "R^2 treino= 0.9917537202536774\n"
          ],
          "name": "stdout"
        }
      ]
    }
  ]
}